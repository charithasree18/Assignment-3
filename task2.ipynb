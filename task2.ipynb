{
 "cells": [
  {
   "cell_type": "code",
   "execution_count": 1,
   "id": "a7c5bc59-bb8b-4110-b2e5-661e9511a86a",
   "metadata": {},
   "outputs": [
    {
     "name": "stdin",
     "output_type": "stream",
     "text": [
      "Enter a number:  2\n"
     ]
    },
    {
     "name": "stdout",
     "output_type": "stream",
     "text": [
      "The square root of 2.0 is: 1.4142135623730951\n",
      "The natural logarithm (log base e) of 2.0 is: 0.6931471805599453\n",
      "The sine of 2.0 (in radians) is: 0.9092974268256817\n"
     ]
    }
   ],
   "source": [
    "import math\n",
    "\n",
    "# Step 1: Ask the user for a number as input\n",
    "number = float(input(\"Enter a number: \"))\n",
    "\n",
    "# Step 2: Use the math module to calculate\n",
    "square_root = math.sqrt(number)\n",
    "natural_log = math.log(number)\n",
    "sine_value = math.sin(number)\n",
    "\n",
    "# Step 3: Display the calculated results\n",
    "print(f\"The square root of {number} is: {square_root}\")\n",
    "print(f\"The natural logarithm (log base e) of {number} is: {natural_log}\")\n",
    "print(f\"The sine of {number} (in radians) is: {sine_value}\")"
   ]
  },
  {
   "cell_type": "code",
   "execution_count": null,
   "id": "67dc522b-0827-48fd-baae-94a555ad6ea9",
   "metadata": {},
   "outputs": [],
   "source": []
  }
 ],
 "metadata": {
  "kernelspec": {
   "display_name": "Python [conda env:base] *",
   "language": "python",
   "name": "conda-base-py"
  },
  "language_info": {
   "codemirror_mode": {
    "name": "ipython",
    "version": 3
   },
   "file_extension": ".py",
   "mimetype": "text/x-python",
   "name": "python",
   "nbconvert_exporter": "python",
   "pygments_lexer": "ipython3",
   "version": "3.12.7"
  }
 },
 "nbformat": 4,
 "nbformat_minor": 5
}
